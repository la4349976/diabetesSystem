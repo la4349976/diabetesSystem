{
 "cells": [
  {
   "cell_type": "code",
   "execution_count": null,
   "id": "148ee2c4",
   "metadata": {},
   "outputs": [],
   "source": [
    "Name :Lakhwinder singh \n",
    "Student Id 4349976"
   ]
  },
  {
   "cell_type": "code",
   "execution_count": null,
   "id": "84974abe",
   "metadata": {},
   "outputs": [],
   "source": [
    "The early diagnosis of diabetes is only possible by proper assessment of both common and less common sign symptoms, which could be found in different phases from disease initiation up to diagnosis. Data mining classification techniques have been well accepted by researchers for risk prediction model of the disease. To predict the likelihood of having diabetes requires a dataset, which contains the data of newly diabetic or would be diabetic patient. In this work, we have used such a dataset of 520 instances, which has been collected using direct questionnaires from the patients of Sylhet Diabetes Hospital in Sylhet, Bangladesh. We have analyzed the dataset with Naive Bayes Algorithm, Logistic Regression Algorithm, and Random Forest Algorithm and after applying tenfold Cross- Validation and Percentage Split evaluation techniques, Random forest has been found having best accuracy on this dataset. Finally, a commonly accessible, user-friendly tool for the end user to check the risk of having diabetes from assessing the symptoms and useful tips to control over the risk factors has been proposed. "
   ]
  },
  {
   "cell_type": "code",
   "execution_count": null,
   "id": "fd1e29f6",
   "metadata": {},
   "outputs": [],
   "source": [
    "import pandas as pd\n",
    "import numpy as np\n",
    "import random as rnd\n",
    "\n",
    "# visualization\n",
    "import seaborn as sns\n",
    "import matplotlib.pyplot as plt\n",
    "# %matplotlib inline\n",
    "from sklearn.preprocessing import StandardScaler\n",
    "from sklearn.metrics import mean_squared_error,confusion_matrix, precision_score, recall_score, auc,roc_curve\n",
    "# machine learning\n",
    "from sklearn.linear_model import LogisticRegression\n",
    "from sklearn.svm import SVC, LinearSVC\n",
    "from sklearn.ensemble import RandomForestClassifier\n",
    "from sklearn.neighbors import KNeighborsClassifier\n",
    "from sklearn.naive_bayes import GaussianNB\n",
    "from sklearn.linear_model import Perceptron\n",
    "from sklearn.linear_model import SGDClassifier\n",
    "from sklearn.tree import DecisionTreeClassifier"
   ]
  },
  {
   "cell_type": "code",
   "execution_count": null,
   "id": "a8575553",
   "metadata": {},
   "outputs": [],
   "source": [
    "print(RandomForestClassifier(n_estimators=100))"
   ]
  },
  {
   "cell_type": "code",
   "execution_count": null,
   "id": "ef894007",
   "metadata": {},
   "outputs": [],
   "source": [
    "url= 'https://drive.google.com/file/d/1asit0DWv9yRCERtpKlyM2HCFNI4YAupn/view?usp=sharing'\n",
    "file_id=url.split('/')[-2]\n",
    "dwn_url='https://drive.google.com/uc?id=' + file_id\n",
    "ds = pd.read_csv(dwn_url)\n",
    "ds.head(100)\n",
    "#file details"
   ]
  },
  {
   "cell_type": "code",
   "execution_count": null,
   "id": "442cf228",
   "metadata": {},
   "outputs": [],
   "source": [
    "from sklearn import preprocessing\n",
    "def convert(data):\n",
    "    number = preprocessing.LabelEncoder()\n",
    "    for col_name in data.columns:\n",
    "        data[col_name] = number.fit_transform(data[col_name])\n",
    "        data=data.fillna(-999)\n",
    "    return data"
   ]
  },
  {
   "cell_type": "code",
   "execution_count": null,
   "id": "b7e60966",
   "metadata": {},
   "outputs": [],
   "source": [
    "dataset = convert(ds)\n",
    "dataset.head(100)"
   ]
  },
  {
   "cell_type": "code",
   "execution_count": null,
   "id": "0ab2b4fc",
   "metadata": {},
   "outputs": [],
   "source": [
    "X = dataset.drop('class', axis=1)\n",
    "Y = dataset['class']"
   ]
  },
  {
   "cell_type": "code",
   "execution_count": null,
   "id": "d7e694c5",
   "metadata": {},
   "outputs": [],
   "source": [
    "from sklearn.model_selection import train_test_split\n",
    "X_train, X_test, Y_train, Y_test = train_test_split(X, Y, test_size = 0.10)"
   ]
  },
  {
   "cell_type": "code",
   "execution_count": null,
   "id": "7948ab28",
   "metadata": {},
   "outputs": [],
   "source": [
    "random_forest = RandomForestClassifier(n_estimators=100)\n",
    "random_forest.fit(X_train, Y_train)"
   ]
  },
  {
   "cell_type": "code",
   "execution_count": null,
   "id": "28cd461d",
   "metadata": {},
   "outputs": [],
   "source": [
    "import joblib\n",
    "import pickle"
   ]
  },
  {
   "cell_type": "code",
   "execution_count": null,
   "id": "fe6acc4e",
   "metadata": {},
   "outputs": [],
   "source": [
    " filename = \"Completed_model.joblib\"\n",
    " joblib.dump(random_forest, filename)"
   ]
  },
  {
   "cell_type": "code",
   "execution_count": null,
   "id": "976f2138",
   "metadata": {},
   "outputs": [],
   "source": [
    "   loaded_model = joblib.load(filename)\n",
    "   result = loaded_model.score(X_test, Y_test)\n",
    "   print(result)"
   ]
  },
  {
   "cell_type": "code",
   "execution_count": null,
   "id": "a76da03a",
   "metadata": {},
   "outputs": [],
   "source": [
    "print(random_forest.predict([X_test.iloc[3]])) #A single instance in the test dataset"
   ]
  },
  {
   "cell_type": "code",
   "execution_count": null,
   "id": "5b24534a",
   "metadata": {},
   "outputs": [],
   "source": [
    "url= 'https://drive.google.com/file/d/1asit0DWv9yRCERtpKlyM2HCFNI4YAupn/view?usp=sharing'\n",
    "file_id=url.split('/')[-2]\n",
    "dwn_url='https://drive.google.com/uc?id=' + file_id\n",
    "dst = pd.read_csv(dwn_url)\n",
    "dst.head(20)"
   ]
  },
  {
   "cell_type": "code",
   "execution_count": null,
   "id": "1fb50586",
   "metadata": {},
   "outputs": [],
   "source": [
    "test_data = convert(dst)"
   ]
  },
  {
   "cell_type": "code",
   "execution_count": null,
   "id": "b48adce2",
   "metadata": {},
   "outputs": [],
   "source": [
    "X_test_csv  = test_data.drop(\"class\", axis=1)\n",
    "Y_test_csv = test_data[\"class\"]"
   ]
  },
  {
   "cell_type": "code",
   "execution_count": null,
   "id": "68694b95",
   "metadata": {},
   "outputs": [],
   "source": [
    "pip install lime"
   ]
  },
  {
   "cell_type": "code",
   "execution_count": null,
   "id": "092358dd",
   "metadata": {},
   "outputs": [],
   "source": [
    "from lime import lime_tabular\n",
    "# Explainer function varies differently. Please see the documentation. Search by lime_tabular.LimeTabularExplainer\n",
    "#LIME documentation: https://lime-ml.readthedocs.io/en/latest/lime.html\n",
    "#Download in PDF:https://readthedocs.org/projects/lime-ml/downloads/pdf/latest/\n",
    "explainer_DT = lime_tabular.LimeTabularExplainer(training_data = X_train.values, mode='classification', training_labels=None, feature_names= X_train.columns,\n",
    "categorical_features=None, categorical_names=None, kernel_width=None, verbose=False, class_names=None, feature_selection='auto', discretize_continuous=True, discretizer='quartile')"
   ]
  },
  {
   "cell_type": "code",
   "execution_count": null,
   "id": "890670d3",
   "metadata": {},
   "outputs": [],
   "source": [
    "  loaded_model = joblib.load(filename)\n",
    "  result = loaded_model.score(X_test_csv, Y_test_csv)\n",
    "  single_instance = X_test_csv.iloc[[120]]\n",
    "result2_proba = loaded_model.predict_proba(single_instance)\n",
    "  print(result2)"
   ]
  },
  {
   "cell_type": "code",
   "execution_count": null,
   "id": "aba479d5",
   "metadata": {},
   "outputs": [],
   "source": [
    " exp_svm = explainer_DT.explain_instance(X_test_csv.iloc[280], exres)\n",
    " exp_svm.show_in_notebook(show_predicted_value= True)\n",
    " print(exp_svm)"
   ]
  },
  {
   "cell_type": "code",
   "execution_count": null,
   "id": "1a908bf6",
   "metadata": {},
   "outputs": [],
   "source": [
    "list = exp_svm.as_list()\n",
    "print(exp_svm.as_list())"
   ]
  },
  {
   "cell_type": "code",
   "execution_count": null,
   "id": "960b7e2f",
   "metadata": {},
   "outputs": [],
   "source": [
    "X_test_csv.iloc[280]"
   ]
  }
 ],
 "metadata": {
  "kernelspec": {
   "display_name": "Python 3 (ipykernel)",
   "language": "python",
   "name": "python3"
  },
  "language_info": {
   "codemirror_mode": {
    "name": "ipython",
    "version": 3
   },
   "file_extension": ".py",
   "mimetype": "text/x-python",
   "name": "python",
   "nbconvert_exporter": "python",
   "pygments_lexer": "ipython3",
   "version": "3.11.5"
  }
 },
 "nbformat": 4,
 "nbformat_minor": 5
}
